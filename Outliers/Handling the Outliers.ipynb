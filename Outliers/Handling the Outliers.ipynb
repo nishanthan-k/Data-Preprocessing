{
 "cells": [
  {
   "cell_type": "code",
   "execution_count": 57,
   "id": "2722c60a-36fd-47e1-9f5f-d95535356f24",
   "metadata": {},
   "outputs": [],
   "source": [
    "import numpy as np\n",
    "import matplotlib.pyplot as plt\n",
    "%matplotlib inline\n",
    "import seaborn as sns"
   ]
  },
  {
   "cell_type": "code",
   "execution_count": 58,
   "id": "7ba43455-47e5-4ad3-83ad-cf4ebb9648d5",
   "metadata": {},
   "outputs": [],
   "source": [
    "data = [11,10,12,14,12,15,14,13,15,102,12,14,17,19,107, 10,13,12,14,12,108,12,11,14,13,15,10,15,12,10,14,13,15,10]"
   ]
  },
  {
   "cell_type": "markdown",
   "id": "ecc7933e-5b17-4b07-9f9c-0b98e11feb3c",
   "metadata": {},
   "source": [
    "## Visualizing the outlier"
   ]
  },
  {
   "cell_type": "code",
   "execution_count": 59,
   "id": "b1614683-5483-422f-98f4-eb78fa91c49a",
   "metadata": {
    "scrolled": true
   },
   "outputs": [
    {
     "data": {
      "text/plain": [
       "<Axes: >"
      ]
     },
     "execution_count": 59,
     "metadata": {},
     "output_type": "execute_result"
    },
    {
     "data": {
      "image/png": "[encoded data removed]",
      "text/plain": [
       "<Figure size 640x480 with 1 Axes>"
      ]
     },
     "metadata": {},
     "output_type": "display_data"
    }
   ],
   "source": [
    "sns.scatterplot(data=data)"
   ]
  },
  {
   "cell_type": "code",
   "execution_count": 60,
   "id": "da1a4efb-ca78-46af-a360-8b6a4ee3bcd8",
   "metadata": {},
   "outputs": [
    {
     "data": {
      "text/plain": [
       "<Axes: >"
      ]
     },
     "execution_count": 60,
     "metadata": {},
     "output_type": "execute_result"
    },
    {
     "data": {
      "image/png": "[encoded data removed]",
      "text/plain": [
       "<Figure size 640x480 with 1 Axes>"
      ]
     },
     "metadata": {},
     "output_type": "display_data"
    }
   ],
   "source": [
    "sns.boxplot(data=data)"
   ]
  },
  {
   "cell_type": "markdown",
   "id": "28572131-2f54-4601-9784-5c74185e243b",
   "metadata": {},
   "source": [
    "## Techniques for handling outliers\n",
    "\n",
    "    1. Z score\n",
    "    2. IQR (Inter Quuartile Range)"
   ]
  },
  {
   "cell_type": "markdown",
   "id": "6c5fcf38-3b0f-4bb2-b05e-4655becd0a80",
   "metadata": {},
   "source": [
    "## Z score\n",
    "\n",
    "    Z = X - μ / σ"
   ]
  },
  {
   "cell_type": "code",
   "execution_count": 61,
   "id": "0ab907f9-b116-4502-b8a3-f210a648bc0e",
   "metadata": {},
   "outputs": [],
   "source": [
    "outliers = []\n",
    "\n",
    "def detect_outlier(data):\n",
    "    threshold = 3\n",
    "    mean = np.mean(data)\n",
    "    std = np.std(data)\n",
    "\n",
    "    for i in data:\n",
    "        z_score = (i - mean) / std\n",
    "        if np.abs(z_score) > threshold:\n",
    "            outliers.append(i)\n",
    "\n",
    "    return outliers"
   ]
  },
  {
   "cell_type": "code",
   "execution_count": 62,
   "id": "f9f34280-0c4c-4e61-92cd-901774b48abd",
   "metadata": {},
   "outputs": [
    {
     "data": {
      "text/plain": [
       "[102, 107, 108]"
      ]
     },
     "execution_count": 62,
     "metadata": {},
     "output_type": "execute_result"
    }
   ],
   "source": [
    "outlier_data = detect_outlier(data)\n",
    "outlier_data"
   ]
  },
  {
   "cell_type": "markdown",
   "id": "c179d1bc-955d-4dcd-b413-fafc4a135502",
   "metadata": {},
   "source": [
    "## IQR\n",
    "\n",
    "75%- 25% values in a dataset\n",
    "\n",
    "Steps\n",
    "1. Arrange the data in increasing order\n",
    "2. Calculate first(q1) and third quartile(q3)\n",
    "3. Find interquartile range (q3-q1)\n",
    "4. Find lower bound q1*1.5\n",
    "5. Find upper bound q3*1.5\n",
    "\n",
    "Anything that lies outside of lower and upper bound is an outlier"
   ]
  },
  {
   "cell_type": "markdown",
   "id": "635f68e6-5339-4a36-841d-6e6ffabfb7f0",
   "metadata": {},
   "source": [
    "### Step 1"
   ]
  },
  {
   "cell_type": "code",
   "execution_count": 63,
   "id": "33a5d277-0007-4976-8511-cadc613d1460",
   "metadata": {},
   "outputs": [
    {
     "data": {
      "text/plain": [
       "[10,\n",
       " 10,\n",
       " 10,\n",
       " 10,\n",
       " 10,\n",
       " 11,\n",
       " 11,\n",
       " 12,\n",
       " 12,\n",
       " 12,\n",
       " 12,\n",
       " 12,\n",
       " 12,\n",
       " 12,\n",
       " 13,\n",
       " 13,\n",
       " 13,\n",
       " 13,\n",
       " 14,\n",
       " 14,\n",
       " 14,\n",
       " 14,\n",
       " 14,\n",
       " 14,\n",
       " 15,\n",
       " 15,\n",
       " 15,\n",
       " 15,\n",
       " 15,\n",
       " 17,\n",
       " 19,\n",
       " 102,\n",
       " 107,\n",
       " 108]"
      ]
     },
     "execution_count": 63,
     "metadata": {},
     "output_type": "execute_result"
    }
   ],
   "source": [
    "sorted(data)"
   ]
  },
  {
   "cell_type": "markdown",
   "id": "b59cd3de-e281-4561-b44d-e9fe33e8b0b0",
   "metadata": {},
   "source": [
    "### Step 2"
   ]
  },
  {
   "cell_type": "code",
   "execution_count": 64,
   "id": "0c0adad5-38c6-4916-890f-2beffc082d5c",
   "metadata": {},
   "outputs": [
    {
     "data": {
      "text/plain": [
       "(12.0, 15.0)"
      ]
     },
     "execution_count": 64,
     "metadata": {},
     "output_type": "execute_result"
    }
   ],
   "source": [
    "q1, q3 = np.percentile(data, [25,75])\n",
    "q1, q3"
   ]
  },
  {
   "cell_type": "markdown",
   "id": "6ff2afa3-ce67-4892-9398-e82d21376028",
   "metadata": {},
   "source": [
    "### Step 3"
   ]
  },
  {
   "cell_type": "code",
   "execution_count": 65,
   "id": "b14a4602-ff3c-4137-9e74-ccb3aef4fe50",
   "metadata": {},
   "outputs": [
    {
     "data": {
      "text/plain": [
       "3.0"
      ]
     },
     "execution_count": 65,
     "metadata": {},
     "output_type": "execute_result"
    }
   ],
   "source": [
    "iqr = q3 - q1\n",
    "iqr"
   ]
  },
  {
   "cell_type": "code",
   "execution_count": 66,
   "id": "1d408d79-7696-423f-96a9-71ba833b16d6",
   "metadata": {},
   "outputs": [
    {
     "data": {
      "text/plain": [
       "(7.5, 19.5)"
      ]
     },
     "execution_count": 66,
     "metadata": {},
     "output_type": "execute_result"
    }
   ],
   "source": [
    "lower = q1 - (1.5 * iqr)\n",
    "upper = q3 + (1.5 * iqr)\n",
    "lower, upper"
   ]
  },
  {
   "cell_type": "code",
   "execution_count": 67,
   "id": "401d844b-b841-4208-a3ba-cba6ac8a058c",
   "metadata": {},
   "outputs": [],
   "source": [
    "outlier = []\n",
    "no_outlier = []\n",
    "for i in data:\n",
    "    if i <= lower or i >= upper:\n",
    "        outlier.append(i)\n",
    "    else:\n",
    "        no_outlier.append(i)"
   ]
  },
  {
   "cell_type": "code",
   "execution_count": 68,
   "id": "8c19ba0d-a4df-4f70-8379-5eeec43a0824",
   "metadata": {},
   "outputs": [
    {
     "data": {
      "text/plain": [
       "[102, 107, 108]"
      ]
     },
     "execution_count": 68,
     "metadata": {},
     "output_type": "execute_result"
    }
   ],
   "source": [
    "outlier"
   ]
  },
  {
   "cell_type": "code",
   "execution_count": 69,
   "id": "96ad09e6-efcf-434c-ba10-e52a8170023b",
   "metadata": {},
   "outputs": [
    {
     "data": {
      "text/plain": [
       "[11,\n",
       " 10,\n",
       " 12,\n",
       " 14,\n",
       " 12,\n",
       " 15,\n",
       " 14,\n",
       " 13,\n",
       " 15,\n",
       " 12,\n",
       " 14,\n",
       " 17,\n",
       " 19,\n",
       " 10,\n",
       " 13,\n",
       " 12,\n",
       " 14,\n",
       " 12,\n",
       " 12,\n",
       " 11,\n",
       " 14,\n",
       " 13,\n",
       " 15,\n",
       " 10,\n",
       " 15,\n",
       " 12,\n",
       " 10,\n",
       " 14,\n",
       " 13,\n",
       " 15,\n",
       " 10]"
      ]
     },
     "execution_count": 69,
     "metadata": {},
     "output_type": "execute_result"
    }
   ],
   "source": [
    "no_outlier"
   ]
  },
  {
   "cell_type": "markdown",
   "id": "6607943e-10de-426b-bca7-e187e44479fc",
   "metadata": {},
   "source": [
    "## Changing the outliers with mean"
   ]
  },
  {
   "cell_type": "code",
   "execution_count": 70,
   "id": "759aae85-8b7f-415b-a9e7-d2632ea7bb1a",
   "metadata": {},
   "outputs": [
    {
     "data": {
      "text/plain": [
       "[11,\n",
       " 10,\n",
       " 12,\n",
       " 14,\n",
       " 12,\n",
       " 15,\n",
       " 14,\n",
       " 13,\n",
       " 15,\n",
       " 13,\n",
       " 12,\n",
       " 14,\n",
       " 17,\n",
       " 19,\n",
       " 13,\n",
       " 10,\n",
       " 13,\n",
       " 12,\n",
       " 14,\n",
       " 12,\n",
       " 13,\n",
       " 12,\n",
       " 11,\n",
       " 14,\n",
       " 13,\n",
       " 15,\n",
       " 10,\n",
       " 15,\n",
       " 12,\n",
       " 10,\n",
       " 14,\n",
       " 13,\n",
       " 15,\n",
       " 10]"
      ]
     },
     "execution_count": 70,
     "metadata": {},
     "output_type": "execute_result"
    }
   ],
   "source": [
    "mean = int(np.mean(no_outlier))\n",
    "\n",
    "for i in range(len(data)):\n",
    "    if data[i] <= lower or data[i] >= upper:\n",
    "        data[i] = mean\n",
    "\n",
    "data"
   ]
  },
  {
   "cell_type": "code",
   "execution_count": 71,
   "id": "b628dbdb-2285-4a57-a098-7255088b75c3",
   "metadata": {},
   "outputs": [
    {
     "data": {
      "text/plain": [
       "<Axes: >"
      ]
     },
     "execution_count": 71,
     "metadata": {},
     "output_type": "execute_result"
    },
    {
     "data": {
      "image/png": "[encoded data removed]",
      "text/plain": [
       "<Figure size 640x480 with 1 Axes>"
      ]
     },
     "metadata": {},
     "output_type": "display_data"
    }
   ],
   "source": [
    "sns.scatterplot(data=data)"
   ]
  },
  {
   "cell_type": "code",
   "execution_count": 72,
   "id": "64d71c9f-d06d-4a24-a8fa-84fcdac23375",
   "metadata": {},
   "outputs": [
    {
     "data": {
      "text/plain": [
       "<Axes: >"
      ]
     },
     "execution_count": 72,
     "metadata": {},
     "output_type": "execute_result"
    },
    {
     "data": {
      "image/png": "[encoded data removed]",
      "text/plain": [
       "<Figure size 640x480 with 1 Axes>"
      ]
     },
     "metadata": {},
     "output_type": "display_data"
    }
   ],
   "source": [
    "sns.boxplot(data=data)"
   ]
  },
  {
   "cell_type": "code",
   "execution_count": null,
   "id": "115ffedb-2f58-4394-8df0-65fac6ab08bd",
   "metadata": {},
   "outputs": [],
   "source": []
  },
  {
   "cell_type": "code",
   "execution_count": null,
   "id": "958ab4ec-481b-4505-9b4c-1938a7cabc27",
   "metadata": {},
   "outputs": [],
   "source": []
  }
 ],
 "metadata": {
  "kernelspec": {
   "display_name": "Python 3 (ipykernel)",
   "language": "python",
   "name": "python3"
  },
  "language_info": {
   "codemirror_mode": {
    "name": "ipython",
    "version": 3
   },
   "file_extension": ".py",
   "mimetype": "text/x-python",
   "name": "python",
   "nbconvert_exporter": "python",
   "pygments_lexer": "ipython3",
   "version": "3.10.11"
  }
 },
 "nbformat": 4,
 "nbformat_minor": 5
}
